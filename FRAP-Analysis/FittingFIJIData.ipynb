{
 "cells": [
  {
   "cell_type": "markdown",
   "id": "f9ee154f-e134-48a8-adbc-018670ab26e0",
   "metadata": {},
   "source": [
    "# Besenius' Lab FRAP Analysis\n",
    "**(with the 2D ImageJ Script by Marius)**\n",
    "\n",
    "\n",
    "**How to use**\n",
    "\n",
    "Hit *View* > *Collapse all Code* and then *Run* > *Run all cells*. The script should be ready to use."
   ]
  },
  {
   "cell_type": "code",
   "execution_count": 1,
   "id": "3d6ad808-452c-4389-92b2-6e2433d2cfd0",
   "metadata": {
    "jupyter": {
     "source_hidden": true
    },
    "tags": [
     "hide-code"
    ]
   },
   "outputs": [],
   "source": [
    "import cv2\n",
    "import numpy as np\n",
    "import matplotlib.pyplot as plt\n",
    "from scipy.stats import norm\n",
    "from scipy.optimize import curve_fit\n",
    "import os\n",
    "from PIL import Image\n",
    "import pandas as pd\n",
    "from IPython.display import Javascript, display\n",
    "from ipywidgets import widgets\n",
    "import IPython\n",
    "\n",
    "output = widgets.Output()\n",
    "output1 = widgets.Output()\n",
    "\n",
    "\n",
    "def gaussian(x, amplitude, mean, stddev):\n",
    "    return amplitude * np.exp(-((x - mean) / stddev) ** 2 / 2)\n",
    "\n",
    "def linear_function(x, m, b):\n",
    "    return m * x + b\n",
    "\n",
    "def FindRoot(m,b):\n",
    "    return -b/m\n",
    "\n",
    "def FirstFit(ev):\n",
    "    global initial_guess\n",
    "    global df_transposed\n",
    "    global x\n",
    "    global y\n",
    "    with output:\n",
    "        output.clear_output()\n",
    "        file_path = filename.value\n",
    "        df = pd.read_csv(file_path)\n",
    "        df_transposed = df.T\n",
    "        df_transposed.columns = df_transposed.iloc[0]\n",
    "        df_transposed = df_transposed[1:]\n",
    "        print(f'Image Dimensions x Number of Frames: {df_transposed.shape}')\n",
    "        df_transposed.iloc[:, :] = df_transposed.iloc[:, ::-1]\n",
    "        df_transposed.columns = df_transposed.columns[::-1]\n",
    "        df_transposed = -df_transposed\n",
    "        x=np.arange(0,df_transposed.shape[0],1)\n",
    "\n",
    "        y = df_transposed.iloc[:, 0].to_numpy() + vertical_shift.value\n",
    "        plt.scatter(x,y)\n",
    "        fit_params, _ = curve_fit(gaussian, x, y)\n",
    "        plt.plot(x, gaussian(x, *fit_params), 'k.', label=f'Fitted Gaussian')\n",
    "        plt.title('Fitting Function First Frame')\n",
    "        plt.xlabel('x (px)')\n",
    "        plt.ylabel('Inverted Brightness (a.u.)')\n",
    "        plt.show()\n",
    "        initial_guess = fit_params\n",
    "        \n",
    "def GaussianFits(ev):\n",
    "    global sigma\n",
    "    global indices\n",
    "    global A\n",
    "    with output:\n",
    "        i=0\n",
    "        frame, std, amp = [],[],[]\n",
    "\n",
    "        colormap = plt.cm.gist_ncar\n",
    "        plt.gca().set_prop_cycle(plt.cycler('color', plt.cm.Set1(np.linspace(0, 1, 180))))\n",
    "\n",
    "        for column in df_transposed.columns[0:180:1]:\n",
    "            y = df_transposed[column].to_numpy() + 200\n",
    "            fit_params, _ = curve_fit(gaussian, x, y)\n",
    "            plt.plot(x, gaussian(x, *fit_params), label=f'Fitted Gaussian {column}')\n",
    "            amplitude, mean, stddev = fit_params\n",
    "            plt.title('Fitting Function All Frames')\n",
    "            plt.xlabel('x (px)')\n",
    "            plt.ylabel('Inverted Brightness (a.u.)')\n",
    "    \n",
    "            frame.append(i)\n",
    "            std.append(stddev)\n",
    "            amp.append(amplitude)\n",
    "\n",
    "            i += 1\n",
    "        plt.show()\n",
    "    indices = np.array(frame)\n",
    "    sigma = np.array(std)\n",
    "    A = np.array(amp)"
   ]
  },
  {
   "cell_type": "markdown",
   "id": "ea699b33-7f73-4bf1-aef2-5c753ffe0a4c",
   "metadata": {},
   "source": [
    "You can change the filename of the lineprofile.txt file. This file has to be uploaded to this directory (upload button on the left of your screen). Since the brightness profile is in a.u. it might be necessary to shift the function upwards to avoid negative y values (these cannot be fitted with a standard Gaussian).\n",
    "\n",
    "Hit *First Gaussian* to fit a reference curve to the first frame. Once you see the fitted function, hit *Gaussian Fits* to fit all other frames."
   ]
  },
  {
   "cell_type": "code",
   "execution_count": 2,
   "id": "1a30570a-f9c6-48ed-bf5e-f274e9ad42ef",
   "metadata": {
    "jupyter": {
     "source_hidden": true
    },
    "tags": []
   },
   "outputs": [
    {
     "data": {
      "application/vnd.jupyter.widget-view+json": {
       "model_id": "e66f60472d1140ac9c9d2d85bdcd3345",
       "version_major": 2,
       "version_minor": 0
      },
      "text/plain": [
       "Text(value='series44.tif_lineprofiles.txt', description='Filename:', placeholder='Type something')"
      ]
     },
     "metadata": {},
     "output_type": "display_data"
    },
    {
     "data": {
      "application/vnd.jupyter.widget-view+json": {
       "model_id": "9d603a275d1e4dd28201975132d74d3a",
       "version_major": 2,
       "version_minor": 0
      },
      "text/plain": [
       "IntText(value=200, description='Vertical Shift:')"
      ]
     },
     "metadata": {},
     "output_type": "display_data"
    },
    {
     "data": {
      "application/vnd.jupyter.widget-view+json": {
       "model_id": "5213e26e50bb487ea9289a32a72db185",
       "version_major": 2,
       "version_minor": 0
      },
      "text/plain": [
       "HBox(children=(VBox(children=(Button(button_style='info', description='First Gaussian', icon='check', style=Bu…"
      ]
     },
     "metadata": {},
     "output_type": "display_data"
    }
   ],
   "source": [
    "filename = widgets.Text(\n",
    "    value='series44.tif_lineprofiles.txt',\n",
    "    placeholder='Type something',\n",
    "    description='Filename:',\n",
    "    disabled=False   \n",
    ")\n",
    "display(filename)\n",
    "\n",
    "\n",
    "vertical_shift = widgets.IntText(\n",
    "    value='200',\n",
    "    placeholder='Type something',\n",
    "    description='Vertical Shift:',\n",
    "    disabled=False   \n",
    ")\n",
    "display(vertical_shift)\n",
    "\n",
    "output.clear_output()\n",
    "\n",
    "button1 = widgets.Button(\n",
    "    description='First Gaussian',\n",
    "    disabled=False,\n",
    "    button_style='info', # 'success', 'info', 'warning', 'danger' or ''\n",
    "    tooltip='Description',\n",
    "    icon='check' # (FontAwesome names without the `fa-` prefix)\n",
    ")\n",
    "\n",
    "button1.on_click(FirstFit)\n",
    "hb1 = widgets.HBox([button1, output])\n",
    "\n",
    "\n",
    "button2 = widgets.Button(\n",
    "    description='Gaussian Fits',\n",
    "    disabled=False,\n",
    "    button_style='info', # 'success', 'info', 'warning', 'danger' or ''\n",
    "    tooltip='Description',\n",
    "    icon='check' # (FontAwesome names without the `fa-` prefix)\n",
    ")\n",
    "output.clear_output()  \n",
    "button2.on_click(GaussianFits)\n",
    "hb2 = widgets.HBox([button2, output])\n",
    "buttons = widgets.VBox([button1, button2])\n",
    "widgets.HBox([buttons, output])"
   ]
  },
  {
   "cell_type": "markdown",
   "id": "d009ee6b-99ed-4b7c-b495-deaeff247659",
   "metadata": {},
   "source": [
    "Sometimes the plot won't load until you \"update\" the slider. Just move the handle a bit and the plot will show up :)"
   ]
  },
  {
   "cell_type": "code",
   "execution_count": 3,
   "id": "e7e5473d-0251-4025-be19-977816ba9965",
   "metadata": {
    "jupyter": {
     "source_hidden": true
    },
    "tags": []
   },
   "outputs": [
    {
     "data": {
      "application/vnd.jupyter.widget-view+json": {
       "model_id": "4d84795f4ead4ffea3ba507e2f20d47c",
       "version_major": 2,
       "version_minor": 0
      },
      "text/plain": [
       "HBox(children=(IntRangeSlider(value=(0, 180), continuous_update=False, description='Range for Linear Fit:', ma…"
      ]
     },
     "metadata": {},
     "output_type": "display_data"
    }
   ],
   "source": [
    "def ShowSigma(change):\n",
    "    new_value = change['new']\n",
    "    fitting_range=linfitrange.value\n",
    "    sigma_copy = sigma[fitting_range[0]:fitting_range[1]]\n",
    "    indices_copy = indices[fitting_range[0]:fitting_range[1]]\n",
    "    A_copy = A[fitting_range[0]:fitting_range[1]]\n",
    "    params, covariance = curve_fit(linear_function, indices_copy, sigma_copy)\n",
    "    m, b = params\n",
    "    y_fit = linear_function(indices_copy, m, b)\n",
    "    residuals = sigma_copy - y_fit\n",
    "    ss_res = np.sum(residuals**2)\n",
    "    ss_tot = np.sum((sigma_copy - np.mean(sigma_copy))**2)\n",
    "    r_squared = 1 - (ss_res / ss_tot)\n",
    "    \n",
    "    \n",
    "    with output1:\n",
    "        plt.xlabel('Time (s)')\n",
    "        plt.gca().set_ylabel(r'$\\sigma$ (px)')\n",
    "        plt.title('Linear Fitting of Standard Deviation over Time')\n",
    "        output1.clear_output()\n",
    "        plt.scatter(indices_copy, sigma_copy, label='Original Data')\n",
    "        plt.plot(indices_copy, y_fit, label=f'Linear Fit: y = {m:.2f}t + {b:.2f}\\n$R^2$ = {r_squared:.2f}, $t_L$ = {FindRoot(m,b):.2f}', color='red')\n",
    "        plt.legend()\n",
    "        plt.show()\n",
    "        \n",
    "    log_indices = np.log(indices_copy)\n",
    "    log_A = np.log(A_copy)\n",
    "    nan_indices = np.isinf(log_indices)\n",
    "    log_indices = log_indices[~nan_indices]\n",
    "    log_A = log_A[~nan_indices]\n",
    "    params, covariance = curve_fit(linear_function, log_indices, log_A)\n",
    "    m, b = params\n",
    "    y_fit = linear_function(log_indices, m, b)\n",
    "    residuals = log_A - y_fit\n",
    "    ss_res = np.sum(residuals**2)\n",
    "    ss_tot = np.sum((log_A - np.mean(log_A))**2)\n",
    "    r_squared = 1 - (ss_res / ss_tot)\n",
    "    \n",
    "    with output1:\n",
    "        plt.scatter(log_indices, log_A, label='Original Data')\n",
    "        plt.plot(log_indices, y_fit, label=f'Linear Fit: log(A) = {m:.2f}log(t) + {b:.2f}\\n$R^2$ = {r_squared:.2f}', color='red')\n",
    "        plt.legend()\n",
    "        plt.xlabel('log(t)')\n",
    "        plt.ylabel('log(A)')\n",
    "        plt.title('Linear Fitting of Amplitude over Time')\n",
    "        plt.show()\n",
    "\n",
    "linfitrange = widgets.IntRangeSlider(\n",
    "    value=[0, 180],\n",
    "    min=0,\n",
    "    max=180,\n",
    "    step=1,\n",
    "    description='Range for Linear Fit:',\n",
    "    disabled=False,\n",
    "    continuous_update=False,\n",
    "    orientation='horizontal',\n",
    "    readout=True,\n",
    "    readout_format='d',\n",
    ")\n",
    "output1.clear_output()  \n",
    "linfitrange.observe(ShowSigma, names='value')\n",
    "widgets.HBox([linfitrange, output1])"
   ]
  }
 ],
 "metadata": {
  "kernelspec": {
   "display_name": "Python 3 (ipykernel)",
   "language": "python",
   "name": "python3"
  },
  "language_info": {
   "codemirror_mode": {
    "name": "ipython",
    "version": 3
   },
   "file_extension": ".py",
   "mimetype": "text/x-python",
   "name": "python",
   "nbconvert_exporter": "python",
   "pygments_lexer": "ipython3",
   "version": "3.9.13"
  }
 },
 "nbformat": 4,
 "nbformat_minor": 5
}
