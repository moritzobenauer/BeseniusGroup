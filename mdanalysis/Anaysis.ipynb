{
 "cells": [
  {
   "cell_type": "code",
   "execution_count": 6,
   "id": "3eba0df0-05f0-481e-8f1a-0273f3868598",
   "metadata": {},
   "outputs": [],
   "source": [
    "# Importing Standard Working Environment\n",
    "import MDAnalysis as mda\n",
    "import pandas as pd\n",
    "import numpy as np\n",
    "import matplotlib.pyplot as plt\n",
    "from scipy.stats import norm\n",
    "from scipy.optimize import curve_fit\n",
    "import os"
   ]
  },
  {
   "cell_type": "markdown",
   "id": "8e1577b4-ed0e-4267-95c7-6f92319e3e55",
   "metadata": {},
   "source": [
    "1) Import Trajectories\n",
    "2) Ramachandran Analysis\n",
    "3) Contracted Ramachandran\n",
    "4) Visualization\n",
    "5) Comparing DC0, DC2+, and SC0"
   ]
  },
  {
   "cell_type": "code",
   "execution_count": null,
   "id": "1b1e2ad4-f1c8-4bd0-a8f2-f0c86014e6f4",
   "metadata": {},
   "outputs": [],
   "source": []
  },
  {
   "cell_type": "code",
   "execution_count": null,
   "id": "f4314a79-493c-4ede-84e8-84a878d14577",
   "metadata": {},
   "outputs": [],
   "source": []
  }
 ],
 "metadata": {
  "kernelspec": {
   "display_name": "Python 3 (ipykernel)",
   "language": "python",
   "name": "python3"
  },
  "language_info": {
   "codemirror_mode": {
    "name": "ipython",
    "version": 3
   },
   "file_extension": ".py",
   "mimetype": "text/x-python",
   "name": "python",
   "nbconvert_exporter": "python",
   "pygments_lexer": "ipython3",
   "version": "3.12.1"
  }
 },
 "nbformat": 4,
 "nbformat_minor": 5
}
